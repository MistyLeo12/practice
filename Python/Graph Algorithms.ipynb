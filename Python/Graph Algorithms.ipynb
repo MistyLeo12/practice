{
 "cells": [
  {
   "cell_type": "code",
   "execution_count": 32,
   "metadata": {},
   "outputs": [
    {
     "name": "stdout",
     "output_type": "stream",
     "text": [
      "{0: [1, 2, 3], 1: [0, 2, 3], 2: [0, 1, 3], 3: [0, 1, 2]}\n"
     ]
    }
   ],
   "source": [
    "adjaceny_matrix = [[0, 4, 1, 9], [3, 0, 6, 11], [4, 1, 0, 2], [6, 5, -4, 0]]\n",
    "\n",
    "graph2 = {'A': set(['B', 'C']),\n",
    "         'B': set(['A', 'D', 'E']),\n",
    "         'C': set(['A', 'F']),\n",
    "         'D': set(['B']),\n",
    "         'E': set(['B', 'F']),\n",
    "         'F': set(['C', 'E'])}\n",
    "\n",
    "def matrix_to_list(matrix):\n",
    "    graph = {}\n",
    "    for i, node in enumerate(matrix):\n",
    "        adj = []\n",
    "        for j, connected in enumerate(node):\n",
    "            if connected:\n",
    "                adj.append(j)\n",
    "        graph[i] = adj\n",
    "    return graph\n",
    "\n",
    "adjaceny_list = matrix_to_list(adjaceny_matrix)\n",
    "\n",
    "print (adjaceny_list)"
   ]
  },
  {
   "cell_type": "code",
   "execution_count": 24,
   "metadata": {},
   "outputs": [],
   "source": [
    "def bfs (graph, start):\n",
    "    visited, q = set(), [start]\n",
    "\n",
    "    while q:\n",
    "        n = q.pop(0)\n",
    "        if n not in visited:\n",
    "            visited.add(n)\n",
    "            q.extend(graph[n]-visited)\n",
    "        return visited"
   ]
  },
  {
   "cell_type": "code",
   "execution_count": null,
   "metadata": {},
   "outputs": [],
   "source": []
  },
  {
   "cell_type": "code",
   "execution_count": null,
   "metadata": {},
   "outputs": [],
   "source": []
  },
  {
   "cell_type": "code",
   "execution_count": null,
   "metadata": {},
   "outputs": [],
   "source": []
  }
 ],
 "metadata": {
  "kernelspec": {
   "display_name": "Python 3",
   "language": "python",
   "name": "python3"
  },
  "language_info": {
   "codemirror_mode": {
    "name": "ipython",
    "version": 3
   },
   "file_extension": ".py",
   "mimetype": "text/x-python",
   "name": "python",
   "nbconvert_exporter": "python",
   "pygments_lexer": "ipython3",
   "version": "3.7.0"
  }
 },
 "nbformat": 4,
 "nbformat_minor": 2
}
